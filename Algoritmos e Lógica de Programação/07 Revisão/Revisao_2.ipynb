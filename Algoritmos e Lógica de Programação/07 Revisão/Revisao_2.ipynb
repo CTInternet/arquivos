{
 "cells": [
  {
   "cell_type": "markdown",
   "metadata": {},
   "source": [
    "# Lista de Exercícios"
   ]
  },
  {
   "cell_type": "markdown",
   "metadata": {},
   "source": [
    "Exercício 1: Soma de dois números (Estrutura Sequencial)\n",
    "Escreva um programa que peça dois números ao usuário e mostre a soma deles."
   ]
  },
  {
   "cell_type": "code",
   "execution_count": null,
   "metadata": {},
   "outputs": [],
   "source": []
  },
  {
   "cell_type": "markdown",
   "metadata": {},
   "source": [
    "Exercício 2: Média de três números (Estrutura Sequencial)\n",
    "Escreva um programa que peça três números e exiba a média entre eles."
   ]
  },
  {
   "cell_type": "code",
   "execution_count": null,
   "metadata": {},
   "outputs": [],
   "source": []
  },
  {
   "cell_type": "markdown",
   "metadata": {},
   "source": [
    "Exercício 3: Par ou Ímpar (Estrutura de Decisão)\n",
    "Escreva um programa que verifique se um número fornecido pelo usuário é par ou ímpar."
   ]
  },
  {
   "cell_type": "code",
   "execution_count": null,
   "metadata": {},
   "outputs": [],
   "source": []
  },
  {
   "cell_type": "markdown",
   "metadata": {},
   "source": [
    "Exercício 4: Maior entre dois números (Estrutura de Decisão)\n",
    "Escreva um programa que peça dois números e exiba o maior deles."
   ]
  },
  {
   "cell_type": "code",
   "execution_count": null,
   "metadata": {},
   "outputs": [],
   "source": []
  },
  {
   "cell_type": "markdown",
   "metadata": {},
   "source": [
    "Exercício 5: Aprovação de Nota (Estrutura de Decisão)\n",
    "Escreva um programa que receba a nota de um aluno e informe se ele foi aprovado (nota >= 6) ou reprovado."
   ]
  },
  {
   "cell_type": "code",
   "execution_count": null,
   "metadata": {},
   "outputs": [],
   "source": []
  },
  {
   "cell_type": "markdown",
   "metadata": {},
   "source": [
    "Exercício 6: Lista de Nomes (Listas)\n",
    "Crie uma lista com 5 nomes de pessoas. Em seguida, exiba o nome da terceira pessoa da lista."
   ]
  },
  {
   "cell_type": "code",
   "execution_count": null,
   "metadata": {},
   "outputs": [],
   "source": []
  },
  {
   "cell_type": "markdown",
   "metadata": {},
   "source": [
    "Exercício 7: Soma de Números em uma Lista (Listas)\n",
    "Crie uma lista contendo 5 números. Exiba a soma desses números."
   ]
  },
  {
   "cell_type": "code",
   "execution_count": null,
   "metadata": {},
   "outputs": [],
   "source": []
  },
  {
   "cell_type": "markdown",
   "metadata": {},
   "source": [
    "Exercício 8: Adicionando Elementos a uma Lista (Listas)\n",
    "Crie uma lista vazia e permita que o usuário adicione 3 elementos nela. Em seguida, mostre a lista."
   ]
  },
  {
   "cell_type": "code",
   "execution_count": null,
   "metadata": {},
   "outputs": [],
   "source": []
  },
  {
   "cell_type": "markdown",
   "metadata": {},
   "source": [
    "Exercício 9: Trabalhando com Tuplas (Tuplas)\n",
    "Crie uma tupla com 4 cores. Exiba a primeira e a última cor."
   ]
  },
  {
   "cell_type": "code",
   "execution_count": null,
   "metadata": {},
   "outputs": [],
   "source": []
  },
  {
   "cell_type": "markdown",
   "metadata": {},
   "source": [
    "Exercício 10: Acessando Elementos de um Dicionário (Dicionários)\n",
    "Crie um dicionário com as seguintes chaves e valores:\n",
    "\n",
    "\"nome\": \"João\",\n",
    "\n",
    "\"idade\": 25,\n",
    "\n",
    "\"cidade\": \"São Paulo\".\n",
    "\n",
    "Mostre o valor da chave \"idade\"."
   ]
  },
  {
   "cell_type": "code",
   "execution_count": null,
   "metadata": {},
   "outputs": [],
   "source": []
  },
  {
   "cell_type": "markdown",
   "metadata": {},
   "source": [
    "Exercício 11: Alterando Valores em um Dicionário (Dicionários)\n",
    "Altere o valor da chave \"idade\" para 30 no dicionário do exercício anterior e mostre o dicionário atualizado."
   ]
  },
  {
   "cell_type": "code",
   "execution_count": null,
   "metadata": {},
   "outputs": [],
   "source": []
  },
  {
   "cell_type": "markdown",
   "metadata": {},
   "source": [
    "Exercício 12: Loop For com uma Lista (Loops)\n",
    "Crie uma lista com 5 números e use um loop for para exibir cada número na lista."
   ]
  },
  {
   "cell_type": "code",
   "execution_count": null,
   "metadata": {},
   "outputs": [],
   "source": []
  },
  {
   "cell_type": "markdown",
   "metadata": {},
   "source": [
    "Exercício 13: Loop While com Contagem (Loops)\n",
    "Escreva um programa que use um loop while para exibir os números de 1 a 5."
   ]
  },
  {
   "cell_type": "code",
   "execution_count": null,
   "metadata": {},
   "outputs": [],
   "source": []
  },
  {
   "cell_type": "markdown",
   "metadata": {},
   "source": [
    "Exercício 14: Loop For com Dicionário (Loops)\n",
    "Use um loop for para percorrer o dicionário criado anteriormente e mostrar todas as chaves e valores."
   ]
  },
  {
   "cell_type": "code",
   "execution_count": null,
   "metadata": {},
   "outputs": [],
   "source": []
  },
  {
   "cell_type": "markdown",
   "metadata": {},
   "source": [
    "Exercício 15: Número Aleatório e Adivinhação (Loops e Estrutura de Decisão)\n",
    "Escreva um programa que gere um número aleatório entre 1 e 10. Em seguida, peça ao usuário para adivinhar o número, fornecendo dicas se o número é maior ou menor até que ele acerte."
   ]
  },
  {
   "cell_type": "code",
   "execution_count": null,
   "metadata": {},
   "outputs": [],
   "source": []
  }
 ],
 "metadata": {
  "language_info": {
   "name": "python"
  }
 },
 "nbformat": 4,
 "nbformat_minor": 2
}
