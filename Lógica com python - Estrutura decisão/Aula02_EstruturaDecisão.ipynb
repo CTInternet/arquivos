{
  "nbformat": 4,
  "nbformat_minor": 0,
  "metadata": {
    "colab": {
      "provenance": []
    },
    "kernelspec": {
      "name": "python3",
      "display_name": "Python 3"
    },
    "language_info": {
      "name": "python"
    }
  },
  "cells": [
    {
      "cell_type": "markdown",
      "source": [
        "# Programação com Python - Aula 02 - Semana Intensiva"
      ],
      "metadata": {
        "id": "GuaH6r8YHG9_"
      }
    },
    {
      "cell_type": "markdown",
      "source": [
        "## Estrutura de Decisão\n",
        "\n",
        "O que é Estrutura de Decisão?\n",
        "\n",
        "Imagine que você está escrevendo um programa para verificar se uma pessoa é maior de idade. Você precisará tomar uma decisão: se a idade for maior ou igual a 18, a pessoa é considerada maior de idade, caso contrário, é menor. Essa capacidade de tomar decisões com base em condições é o que chamamos de estrutura de decisão.\n",
        "\n",
        "Em Python, as estruturas de decisão são implementadas principalmente com as palavras-chave if, elif e else."
      ],
      "metadata": {
        "id": "SOBZJY-3HfbW"
      }
    },
    {
      "cell_type": "markdown",
      "source": [
        "## O Comando **``if``**\n",
        "\n",
        "O comando if permite executar um bloco de código somente se uma determinada condição for verdadeira."
      ],
      "metadata": {
        "id": "3e6duhxIHwPM"
      }
    },
    {
      "cell_type": "markdown",
      "source": [
        "```python\n",
        "idade = 18\n",
        "if idade >= 18:\n",
        "    print(\"Você é maior de idade.\")\n",
        "```"
      ],
      "metadata": {
        "id": "bOybLJCRHhsc"
      }
    },
    {
      "cell_type": "markdown",
      "source": [
        "## O Comando **``else``**\n",
        "O comando ``else`` é usado para executar um bloco de código caso a condição do if seja falsa."
      ],
      "metadata": {
        "id": "Ety0N-M9HoZU"
      }
    },
    {
      "cell_type": "markdown",
      "source": [
        "\n",
        "\n",
        "```python\n",
        "idade = 15\n",
        "if idade >= 18:\n",
        "    print(\"Você é maior de idade.\")\n",
        "else:\n",
        "    print(\"Você é menor de idade.\")\n",
        "```\n",
        "\n"
      ],
      "metadata": {
        "id": "WPgrDyFiH7lI"
      }
    },
    {
      "cell_type": "markdown",
      "source": [
        "## O Comando **``elif``**\n",
        "O comando ``elif`` (abreviação de \"else if\") permite testar múltiplas condições em sequência."
      ],
      "metadata": {
        "id": "uXU0V7-OIFAI"
      }
    },
    {
      "cell_type": "markdown",
      "source": [
        "```python\n",
        "nota = 7.5\n",
        "if nota >= 9:\n",
        "    print(\"Aprovado com louvor!.\")\n",
        "elif nota >= 7:\n",
        "    print(\"Aprovado.\")\n",
        "else:\n",
        "    print(\"Reprovado.\")\n",
        "```"
      ],
      "metadata": {
        "id": "HIDG3BR4IJdU"
      }
    },
    {
      "cell_type": "markdown",
      "source": [
        "## **Tipos de Dados True e False**\n",
        "\n",
        "Já estudamos alguns tipos de dados. Os dados númericos ``int`` e ``float`` e as cadeias de caracteres ``strings``.\n",
        "\n",
        "### O que são dados Booleanos?\n",
        "\n",
        "Em Python, os valores True (verdadeiro) e False (falso) representam o tipo de dado booleano. Eles são fundamentais para a tomada de decisões em seus programas, permitindo que você compare valores, execute ações condicionais e construa lógica mais complexa.\n",
        "\n",
        "### Quando usamos Booleanos?\n",
        "\n",
        "_Expressões lógicas:_ Resultados de comparações (igualdade, desigualdade, maior que, menor que).\n",
        "\n",
        "_Condições_: Dentro de estruturas de controle como if, elif e else.\n",
        "Funções que retornam valores booleanos: Por exemplo, funções que verificam se um elemento está presente em uma lista."
      ],
      "metadata": {
        "id": "HQs4j-p-Iqbc"
      }
    },
    {
      "cell_type": "markdown",
      "source": [
        "**Operadores Lógicos**\n",
        "\n",
        "Os operadores lógicos em Python são ferramentas poderosas que permitem combinar várias condições em uma única expressão, tornando seu código mais conciso e expressivo. Eles são especialmente úteis ao trabalhar com estruturas de decisão, como o ``if``, ``elif`` e ``else``.\n",
        "\n",
        "**Quais são os principais operadores lógicos em Python?**\n",
        "\n",
        "``and``: Retorna True(verdadeiro) se todas as condições forem verdadeiras. Pode ser entendido como operador de soma (e)\n",
        "\n",
        "``or``: Retorna True(verdadeiro) se pelo menos uma das condições for verdadeira. Pode ser entendido como operador de alternativa (ou)\n",
        "\n",
        "``not``: Inverte o valor lógico de uma expressão. Se for verdadeiro(True) converte em falso(False). Pode ser entendido como operador de alternativa (não)"
      ],
      "metadata": {
        "id": "Ml8p-0HnIv19"
      }
    },
    {
      "cell_type": "markdown",
      "source": [
        "#### Exemplo 1\n",
        "\n",
        "```python\n",
        "idade = 25\n",
        "tem_carteira = True\n",
        "\n",
        "# Verificando se a pessoa é maior de idade e tem carteira de motorista\n",
        "if idade >= 18 and tem_carteira:\n",
        "    print(\"Pode dirigir.\")\n",
        "\n",
        "# Verificando se a pessoa é menor de idade ou não tem carteira de motorista\n",
        "if idade < 18 or not tem_carteira:\n",
        "    print(\"Não pode dirigir.\")\n",
        "```"
      ],
      "metadata": {
        "id": "DjzjL5_4I1WR"
      }
    },
    {
      "cell_type": "markdown",
      "source": [
        "#### Exemplo 2\n",
        "\n",
        "```python\n",
        "nota = 7\n",
        "faltas = 5\n",
        "\n",
        "if nota >= 7 and faltas <= 10:\n",
        "    print(\"Aprovado.\")\n",
        "elif nota < 7 or faltas > 10:\n",
        "    print(\"Reprovado.\")\n",
        "```"
      ],
      "metadata": {
        "id": "T_a9DrUqJDoX"
      }
    },
    {
      "cell_type": "markdown",
      "source": [
        "### Exercícios - Lista Python Brasil\n",
        "Disponível em: https://wiki.python.org.br/EstruturaDeDecisao"
      ],
      "metadata": {
        "id": "jglmxMLmJbgw"
      }
    },
    {
      "cell_type": "markdown",
      "source": [
        "#### Exercício 1\n",
        "\n",
        "Faça um Programa que peça dois números e imprima o maior deles."
      ],
      "metadata": {
        "id": "Cbe6P-vgJdpA"
      }
    },
    {
      "cell_type": "code",
      "source": [],
      "metadata": {
        "id": "wDKqXvtYLl0E"
      },
      "execution_count": null,
      "outputs": []
    },
    {
      "cell_type": "markdown",
      "source": [
        "#### Exercício 2\n",
        "\n",
        "Faça um Programa que peça um valor e mostre na tela se o valor é positivo ou negativo."
      ],
      "metadata": {
        "id": "f_EqAKTYLntz"
      }
    },
    {
      "cell_type": "code",
      "source": [],
      "metadata": {
        "id": "zYZpuw5jMsYc"
      },
      "execution_count": null,
      "outputs": []
    },
    {
      "cell_type": "markdown",
      "source": [
        "#### Exercício 3\n",
        "Faça um programa para a leitura de duas notas parciais de um aluno. O programa deve calcular a média alcançada por aluno e apresentar:\n",
        "\n",
        "A mensagem **\"Aprovado\"**, se a média alcançada for maior ou igual a sete;\n",
        "\n",
        "A mensagem **\"Reprovado\"**, se a média for menor do que sete;\n",
        "\n",
        "A mensagem **\"Aprovado com Distinção\"**, se a média for igual a dez."
      ],
      "metadata": {
        "id": "44uMilAML7Nh"
      }
    },
    {
      "cell_type": "code",
      "source": [],
      "metadata": {
        "id": "k9ki44lDMs1M"
      },
      "execution_count": null,
      "outputs": []
    },
    {
      "cell_type": "markdown",
      "source": [
        "#### Exercício 4\n",
        "\n",
        "Faça um Programa que pergunte em que turno você estuda.\n",
        "Peça para digitar M-matutino ou V-Vespertino ou N- Noturno.\n",
        "Imprima a mensagem \"Bom Dia!\", \"Boa Tarde!\" ou \"Boa Noite!\""
      ],
      "metadata": {
        "id": "ZEaTVOLOL88P"
      }
    },
    {
      "cell_type": "markdown",
      "source": [
        "#### Exercício 6\n",
        "\n",
        "As Organizações Tabajara resolveram dar um aumento de salário aos seus colaboradores e lhe contraram para desenvolver o programa que calculará os reajustes.\n",
        "\n",
        "Faça um programa que recebe o salário de um colaborador e o reajuste segundo o seguinte critério, baseado no salário atual (em reais).\n",
        "\n",
        "\n",
        "\n",
        "> salários até 1400,00 (incluindo) : aumento de 20%\n",
        "\n",
        "> salários entre 1401,00 e 1700,00 : aumento de 15%\n",
        "\n",
        "> salários entre 1701,00 e 2500,00 : aumento de 10%\n",
        "\n",
        "> salários de 2501,00 em diante : aumento de 5%\n",
        "\n",
        "\n",
        "Após o aumento ser realizado, informe na tela:\n",
        "\n",
        "\n",
        "1.  o salário antes do reajuste;\n",
        "2.  o percentual de aumento aplicado;\n",
        "3.  o valor do aumento;\n",
        "4.  o novo salário, após o aumento.\n",
        "\n"
      ],
      "metadata": {
        "id": "M5nOU4I3L9rH"
      }
    },
    {
      "cell_type": "code",
      "source": [],
      "metadata": {
        "id": "OQ4uRJTuOB-T"
      },
      "execution_count": null,
      "outputs": []
    }
  ]
}